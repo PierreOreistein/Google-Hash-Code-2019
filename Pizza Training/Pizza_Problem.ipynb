{
 "cells": [
  {
   "cell_type": "markdown",
   "metadata": {},
   "source": [
    "# 0 - Information"
   ]
  },
  {
   "cell_type": "code",
   "execution_count": null,
   "metadata": {},
   "outputs": [],
   "source": []
  },
  {
   "cell_type": "markdown",
   "metadata": {},
   "source": [
    "# 1 - Packages"
   ]
  },
  {
   "cell_type": "code",
   "execution_count": 165,
   "metadata": {
    "ExecuteTime": {
     "end_time": "2019-02-25T21:58:12.163260Z",
     "start_time": "2019-02-25T21:58:12.159062Z"
    }
   },
   "outputs": [],
   "source": [
    "# Maths packages\n",
    "import numpy as np\n",
    "\n",
    "# Dataset packages\n",
    "import pandas as pd\n",
    "\n",
    "# Import os packages\n",
    "from os import listdir\n",
    "from os.path import isfile, join\n",
    "import re\n",
    "\n",
    "# Import progress bar\n",
    "from tqdm import tqdm"
   ]
  },
  {
   "cell_type": "markdown",
   "metadata": {},
   "source": [
    "# 2 - Read the Data"
   ]
  },
  {
   "cell_type": "code",
   "execution_count": 166,
   "metadata": {
    "ExecuteTime": {
     "end_time": "2019-02-25T21:58:12.477414Z",
     "start_time": "2019-02-25T21:58:12.471732Z"
    }
   },
   "outputs": [],
   "source": [
    "def readData(filename):\n",
    "    \"\"\"Return the data of the file filename and save them as a numpy array.\"\"\"\n",
    "    \n",
    "    # Resulting dct\n",
    "    dct = {}\n",
    "    \n",
    "    with open(filename) as f:\n",
    "        \n",
    "        # Read the first line\n",
    "        R, C, L, H = f.readline().split()\n",
    "        \n",
    "        # Append dct\n",
    "        dct[\"R\"] = R\n",
    "        dct[\"C\"] = C\n",
    "        dct[\"L\"] = L \n",
    "        dct[\"H\"] = H\n",
    "        \n",
    "        # Resulting dct\n",
    "        dct[\"Grid\"] = []\n",
    "        \n",
    "        # Read the other lines and save them in \n",
    "        for line in f:\n",
    "            dct[\"Grid\"].append(line.strip())\n",
    "            \n",
    "    # Convert dct[\"Data\"] as a numpy array\n",
    "    dct[\"Grid\"] = np.array(dct[\"Grid\"])\n",
    "\n",
    "    return dct"
   ]
  },
  {
   "cell_type": "code",
   "execution_count": 167,
   "metadata": {
    "ExecuteTime": {
     "end_time": "2019-02-25T21:58:12.637612Z",
     "start_time": "2019-02-25T21:58:12.630489Z"
    }
   },
   "outputs": [],
   "source": [
    "def readFiles(folder):\n",
    "    \"\"\"Read the data in folder and save them in a dict.\"\"\"\n",
    "    \n",
    "    # Resulting dict\n",
    "    result_dct = {}\n",
    "    \n",
    "    # List of files in folder\n",
    "    files = [f for f in listdir(folder) if isfile(join(folder, f))]\n",
    "    \n",
    "    # Loop over all the files in folder\n",
    "    for file in files:\n",
    "        \n",
    "        # Read the data and save them in dct\n",
    "        file_name = re.sub(\"\\...\", \"\", file)\n",
    "        result_dct[file_name] = readData(join(folder, file))\n",
    "    \n",
    "    return result_dct"
   ]
  },
  {
   "cell_type": "code",
   "execution_count": 168,
   "metadata": {
    "ExecuteTime": {
     "end_time": "2019-02-25T21:58:12.783297Z",
     "start_time": "2019-02-25T21:58:12.773633Z"
    }
   },
   "outputs": [],
   "source": [
    "# Read the data\n",
    "data_dct = readFiles(\"Data\")\n",
    "\n",
    "# Extract one example\n",
    "test_dct = {\"test\": data_dct[\"b\"]}"
   ]
  },
  {
   "cell_type": "markdown",
   "metadata": {},
   "source": [
    "# 3 - Code for the optimisation"
   ]
  },
  {
   "cell_type": "code",
   "execution_count": 169,
   "metadata": {
    "ExecuteTime": {
     "end_time": "2019-02-25T21:58:13.083240Z",
     "start_time": "2019-02-25T21:58:13.072108Z"
    }
   },
   "outputs": [],
   "source": [
    "def prediction(dataset_dct):\n",
    "    \"\"\"Make prediction for the current dataset_dct.\"\"\"\n",
    "    \n",
    "    # Resulting array\n",
    "    results = []\n",
    "    \n",
    "    # Extract R, C, L, H, data\n",
    "    R = int(dataset_dct[\"R\"])\n",
    "    C = int(dataset_dct[\"C\"])\n",
    "    L = int(dataset_dct[\"L\"])\n",
    "    H = int(dataset_dct[\"H\"])\n",
    "    grid = dataset_dct[\"Grid\"]\n",
    "    \n",
    "    # Make the predictions\n",
    "    for r in range(R):\n",
    "        \n",
    "        # Counters\n",
    "        beg = 0\n",
    "        c = 0\n",
    "        mushroom_count = 0\n",
    "        tomato_count = 0\n",
    "        \n",
    "        # Loop over all column\n",
    "        while c < C:\n",
    "            if grid[r][c] == \"M\":\n",
    "                mushroom_count += 1\n",
    "            elif grid[r][c] == \"T\":\n",
    "                tomato_count += 1\n",
    "            \n",
    "            if c - beg > H:\n",
    "                if grid[r][beg] == \"M\":\n",
    "                    mushroom_count -= 1\n",
    "                elif grid[r][beg] == \"T\":\n",
    "                    tomato_count -= 1\n",
    "                beg += 1\n",
    "            \n",
    "            if (c - beg) < H and (mushroom_count >= L) and (tomato_count >= L):\n",
    "                results.append(str(r) + \" \" + str(beg) + \" \" + str(r) + \" \" + str(c))\n",
    "                mushroom_count = 0\n",
    "                tomato_count = 0\n",
    "                beg = c + 1\n",
    "                c = c + 1\n",
    "            \n",
    "            # Update of c\n",
    "            c += 1\n",
    "                \n",
    "    return results"
   ]
  },
  {
   "cell_type": "code",
   "execution_count": 170,
   "metadata": {
    "ExecuteTime": {
     "end_time": "2019-02-25T21:58:13.234335Z",
     "start_time": "2019-02-25T21:58:13.229749Z"
    }
   },
   "outputs": [],
   "source": [
    "def predictionsDct(data_dct):\n",
    "    \"\"\"Extract the data of each file in dct and compute the predictions.\"\"\"\n",
    "    \n",
    "    # Resulting dct\n",
    "    predictions_dct = {}\n",
    "    \n",
    "    # Loop over the different datasets\n",
    "    for key in data_dct.keys():\n",
    "        \n",
    "        # Compute the predictions for the current datasets\n",
    "        predictions_dct[key] = prediction(data_dct[key])\n",
    "        \n",
    "    # Return the predictions made\n",
    "    return predictions_dct"
   ]
  },
  {
   "cell_type": "code",
   "execution_count": 171,
   "metadata": {
    "ExecuteTime": {
     "end_time": "2019-02-25T21:58:21.386671Z",
     "start_time": "2019-02-25T21:58:13.537227Z"
    }
   },
   "outputs": [],
   "source": [
    "# Compute the predictions\n",
    "predictions_dct = predictionsDct(data_dct)"
   ]
  },
  {
   "cell_type": "markdown",
   "metadata": {},
   "source": [
    "# 4 - Save the predictions"
   ]
  },
  {
   "cell_type": "code",
   "execution_count": 172,
   "metadata": {
    "ExecuteTime": {
     "end_time": "2019-02-25T21:58:21.449642Z",
     "start_time": "2019-02-25T21:58:21.444594Z"
    }
   },
   "outputs": [],
   "source": [
    "def writePredictions(predictions_dct, folder=\"Results/\"):\n",
    "    \"\"\"Save the predictions.\"\"\"\n",
    "    \n",
    "    # Loop over all the predictions save in array_dct\n",
    "    for key in predictions_dct.keys():\n",
    "        \n",
    "        # Extract predictions for the given files\n",
    "        slices = predictions_dct[key]\n",
    "\n",
    "        # Count the number of slices\n",
    "        nb_slices = len(slices)\n",
    "        \n",
    "        # Writes the result in a txt file\n",
    "        f = open(folder + key + \".txt\", \"w\")\n",
    "        \n",
    "        # Write number of slices\n",
    "        f.write(str(nb_slices) + \"\\n\")\n",
    "        \n",
    "        # Loop over each slices\n",
    "        for i in slices:\n",
    "            f.write(i + \"\\n\")\n",
    "            \n",
    "        # Closing the file\n",
    "        f.close()"
   ]
  },
  {
   "cell_type": "code",
   "execution_count": 173,
   "metadata": {
    "ExecuteTime": {
     "end_time": "2019-02-25T21:58:21.511825Z",
     "start_time": "2019-02-25T21:58:21.507596Z"
    }
   },
   "outputs": [],
   "source": [
    "writePredictions(predictions_dct)"
   ]
  },
  {
   "cell_type": "code",
   "execution_count": null,
   "metadata": {},
   "outputs": [],
   "source": []
  },
  {
   "cell_type": "code",
   "execution_count": null,
   "metadata": {},
   "outputs": [],
   "source": []
  }
 ],
 "metadata": {
  "kernelspec": {
   "display_name": "Python 3",
   "language": "python",
   "name": "python3"
  },
  "language_info": {
   "codemirror_mode": {
    "name": "ipython",
    "version": 3
   },
   "file_extension": ".py",
   "mimetype": "text/x-python",
   "name": "python",
   "nbconvert_exporter": "python",
   "pygments_lexer": "ipython3",
   "version": "3.6.3"
  },
  "latex_envs": {
   "LaTeX_envs_menu_present": true,
   "autoclose": false,
   "autocomplete": true,
   "bibliofile": "biblio.bib",
   "cite_by": "apalike",
   "current_citInitial": 1,
   "eqLabelWithNumbers": true,
   "eqNumInitial": 1,
   "hotkeys": {
    "equation": "Ctrl-E",
    "itemize": "Ctrl-I"
   },
   "labels_anchors": false,
   "latex_user_defs": false,
   "report_style_numbering": false,
   "user_envs_cfg": false
  },
  "varInspector": {
   "cols": {
    "lenName": 16,
    "lenType": 16,
    "lenVar": 40
   },
   "kernels_config": {
    "python": {
     "delete_cmd_postfix": "",
     "delete_cmd_prefix": "del ",
     "library": "var_list.py",
     "varRefreshCmd": "print(var_dic_list())"
    },
    "r": {
     "delete_cmd_postfix": ") ",
     "delete_cmd_prefix": "rm(",
     "library": "var_list.r",
     "varRefreshCmd": "cat(var_dic_list()) "
    }
   },
   "types_to_exclude": [
    "module",
    "function",
    "builtin_function_or_method",
    "instance",
    "_Feature"
   ],
   "window_display": false
  }
 },
 "nbformat": 4,
 "nbformat_minor": 2
}
