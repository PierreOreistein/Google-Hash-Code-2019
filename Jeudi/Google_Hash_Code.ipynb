{
 "cells": [
  {
   "cell_type": "markdown",
   "metadata": {},
   "source": [
    "# 0 - Information"
   ]
  },
  {
   "cell_type": "code",
   "execution_count": null,
   "metadata": {},
   "outputs": [],
   "source": []
  },
  {
   "cell_type": "markdown",
   "metadata": {},
   "source": [
    "# 1 - Packages"
   ]
  },
  {
   "cell_type": "code",
   "execution_count": 1,
   "metadata": {
    "ExecuteTime": {
     "end_time": "2019-02-28T18:32:34.480710Z",
     "start_time": "2019-02-28T18:32:34.265110Z"
    }
   },
   "outputs": [],
   "source": [
    "# Maths packages\n",
    "import numpy as np\n",
    "\n",
    "# Dataset packages\n",
    "import pandas as pd\n",
    "\n",
    "# Import os packages\n",
    "from os import listdir\n",
    "from os.path import isfile, join\n",
    "import re\n",
    "\n",
    "# Import progress bar\n",
    "from tqdm import tqdm"
   ]
  },
  {
   "cell_type": "markdown",
   "metadata": {},
   "source": [
    "# 2 - Read Data"
   ]
  },
  {
   "cell_type": "markdown",
   "metadata": {},
   "source": [
    "## 2.1 - Load the Data"
   ]
  },
  {
   "cell_type": "code",
   "execution_count": 2,
   "metadata": {
    "ExecuteTime": {
     "end_time": "2019-02-28T18:32:34.981226Z",
     "start_time": "2019-02-28T18:32:34.973015Z"
    }
   },
   "outputs": [],
   "source": [
    "def readData(filename):\n",
    "    \"\"\"Return the data of the file filename and save them as a numpy array.\"\"\"\n",
    "    \n",
    "    # Resulting dct\n",
    "    dct = {}\n",
    "    \n",
    "    with open(filename) as f:\n",
    "        \n",
    "        # Read the first line\n",
    "        N = f.readline().split()\n",
    "        \n",
    "        # Append dct\n",
    "        dct[\"N\"] = N\n",
    "        \n",
    "        # Resulting dataFrame\n",
    "        df = pd.DataFrame(columns=[\"ID\", \"H_V\", \"M\", \"Tags\"])\n",
    "        \n",
    "        # Resulting convertion table\n",
    "        table = {}\n",
    "        \n",
    "        # Counter\n",
    "        counter = 0\n",
    "        \n",
    "        # Read the other lines and save them in \n",
    "        for i, line in enumerate(f):\n",
    "            \n",
    "            # Extract info\n",
    "            string = line.strip().split()\n",
    "            infos = [i, string[0], int(string[1]), \" \".join(string[2:])]\n",
    "            \n",
    "            # Extract tags\n",
    "            tags = string[2:]\n",
    "            for tag in tags:\n",
    "                \n",
    "                # Test if present in table\n",
    "                if not(tag in table):\n",
    "                    table[tag] = counter\n",
    "                    counter += 1\n",
    "\n",
    "            # Add the infos to df\n",
    "            df.loc[i] = infos\n",
    "        \n",
    "        # Add df to dct and table\n",
    "        dct[\"Photos\"] = df\n",
    "        dct[\"Table\"] = table\n",
    "\n",
    "    return dct"
   ]
  },
  {
   "cell_type": "code",
   "execution_count": 3,
   "metadata": {
    "ExecuteTime": {
     "end_time": "2019-02-28T18:32:35.433755Z",
     "start_time": "2019-02-28T18:32:35.429149Z"
    }
   },
   "outputs": [],
   "source": [
    "def readFiles(folder):\n",
    "    \"\"\"Read the data in folder and save them in a dict.\"\"\"\n",
    "    \n",
    "    # Resulting dict\n",
    "    result_dct = {}\n",
    "    \n",
    "    # List of files in folder\n",
    "    files = [f for f in listdir(folder) if isfile(join(folder, f))]\n",
    "    \n",
    "    # Loop over all the files in folder\n",
    "    for file in tqdm(files):\n",
    "        \n",
    "        # Read the data and save them in dct\n",
    "        file_name = re.sub(\"\\...\", \"\", file)\n",
    "        result_dct[file_name] = readData(join(folder, file))\n",
    "        \n",
    "    return result_dct"
   ]
  },
  {
   "cell_type": "code",
   "execution_count": 4,
   "metadata": {
    "ExecuteTime": {
     "end_time": "2019-02-28T19:05:53.879996Z",
     "start_time": "2019-02-28T18:32:36.017954Z"
    },
    "scrolled": true
   },
   "outputs": [
    {
     "name": "stderr",
     "output_type": "stream",
     "text": [
      "100%|██████████| 5/5 [33:17<00:00, 447.61s/it]\n"
     ]
    }
   ],
   "source": [
    "# Read the data\n",
    "data_dct = readFiles(\"Data\")"
   ]
  },
  {
   "cell_type": "markdown",
   "metadata": {
    "ExecuteTime": {
     "start_time": "2019-02-28T18:23:50.226Z"
    }
   },
   "source": [
    "## 2.2 - Convert String as integer"
   ]
  },
  {
   "cell_type": "code",
   "execution_count": 5,
   "metadata": {
    "ExecuteTime": {
     "end_time": "2019-02-28T19:07:03.045851Z",
     "start_time": "2019-02-28T19:07:03.040487Z"
    }
   },
   "outputs": [],
   "source": [
    "def convertTags(tags_str, table):\n",
    "    \"\"\"Convert a string of tags into a string of integer trough table.\"\"\"\n",
    "    \n",
    "    # Split str\n",
    "    tags_l = tags_str.split()\n",
    "    \n",
    "    # Loop of convertion\n",
    "    tags_int_l = [str(table[tag]) for tag in tags_l]\n",
    "    \n",
    "    # Convert as a string\n",
    "    result = \" \".join(tags_int_l)\n",
    "    \n",
    "    return result"
   ]
  },
  {
   "cell_type": "code",
   "execution_count": 15,
   "metadata": {
    "ExecuteTime": {
     "end_time": "2019-02-28T19:08:42.065676Z",
     "start_time": "2019-02-28T19:08:42.058468Z"
    }
   },
   "outputs": [],
   "source": [
    "def convertAsInt(dct):\n",
    "    \"\"\"Convert tag as int.\"\"\"\n",
    "    \n",
    "    for key in tqdm(dct.keys()):\n",
    "        \n",
    "        # Extract df and table of dct\n",
    "        df = dct[key][\"Photos\"]\n",
    "        table = dct[key][\"Table\"]\n",
    "        \n",
    "        # Definition of the lambda function\n",
    "        convert = lambda tags_str : convertTags(tags_str, table)\n",
    "        \n",
    "        # Add a colum with integers\n",
    "        df[\"Tags_Int\"] = df[\"Tags\"].apply(lambda x: convert(x))\n",
    "        \n",
    "        # Update df of dct\n",
    "        dct[key] = df\n",
    "        \n",
    "    return dct"
   ]
  },
  {
   "cell_type": "code",
   "execution_count": 19,
   "metadata": {
    "ExecuteTime": {
     "end_time": "2019-02-28T19:11:16.848019Z",
     "start_time": "2019-02-28T19:11:14.891744Z"
    }
   },
   "outputs": [
    {
     "name": "stderr",
     "output_type": "stream",
     "text": [
      "100%|██████████| 5/5 [00:01<00:00,  2.21it/s]"
     ]
    },
    {
     "name": "stdout",
     "output_type": "stream",
     "text": [
      "dict_keys(['a_examplet', 'b_lovely_landscapest', 'c_memorable_momentst', 'd_pet_picturest', 'e_shiny_selfiest'])\n"
     ]
    },
    {
     "name": "stderr",
     "output_type": "stream",
     "text": [
      "\n"
     ]
    }
   ],
   "source": [
    "# Read the data\n",
    "# data_dct = convertAsInt(data_dct)\n",
    "# test_dct = convertAsInt({\"a\": data_dct[\"c_memorable_momentst\"]})\n",
    "\n",
    "# # Extract one example\n",
    "# test_dct = data_dct[\"c_memorable_momentst\"]\n",
    "\n",
    "# Display test_dct\n",
    "# print(data_dct.keys())"
   ]
  },
  {
   "cell_type": "code",
   "execution_count": 20,
   "metadata": {
    "ExecuteTime": {
     "end_time": "2019-02-28T19:11:24.835982Z",
     "start_time": "2019-02-28T19:11:24.472503Z"
    }
   },
   "outputs": [],
   "source": [
    "# Save the dictionnary\n",
    "# np.save('./Save/data_dct.npy', data_dct) \n",
    "# np.save('./Save/test_dct.npy', test_dct) "
   ]
  },
  {
   "cell_type": "code",
   "execution_count": 23,
   "metadata": {
    "ExecuteTime": {
     "end_time": "2019-02-28T19:12:23.126413Z",
     "start_time": "2019-02-28T19:12:22.957927Z"
    }
   },
   "outputs": [
    {
     "data": {
      "text/html": [
       "<div>\n",
       "<style scoped>\n",
       "    .dataframe tbody tr th:only-of-type {\n",
       "        vertical-align: middle;\n",
       "    }\n",
       "\n",
       "    .dataframe tbody tr th {\n",
       "        vertical-align: top;\n",
       "    }\n",
       "\n",
       "    .dataframe thead th {\n",
       "        text-align: right;\n",
       "    }\n",
       "</style>\n",
       "<table border=\"1\" class=\"dataframe\">\n",
       "  <thead>\n",
       "    <tr style=\"text-align: right;\">\n",
       "      <th></th>\n",
       "      <th>ID</th>\n",
       "      <th>H_V</th>\n",
       "      <th>M</th>\n",
       "      <th>Tags</th>\n",
       "      <th>Tags_Int</th>\n",
       "    </tr>\n",
       "  </thead>\n",
       "  <tbody>\n",
       "    <tr>\n",
       "      <th>0</th>\n",
       "      <td>0</td>\n",
       "      <td>H</td>\n",
       "      <td>3</td>\n",
       "      <td>cat beach sun</td>\n",
       "      <td>0 1 2</td>\n",
       "    </tr>\n",
       "    <tr>\n",
       "      <th>1</th>\n",
       "      <td>1</td>\n",
       "      <td>V</td>\n",
       "      <td>2</td>\n",
       "      <td>selfie smile</td>\n",
       "      <td>3 4</td>\n",
       "    </tr>\n",
       "    <tr>\n",
       "      <th>2</th>\n",
       "      <td>2</td>\n",
       "      <td>V</td>\n",
       "      <td>2</td>\n",
       "      <td>garden selfie</td>\n",
       "      <td>5 3</td>\n",
       "    </tr>\n",
       "    <tr>\n",
       "      <th>3</th>\n",
       "      <td>3</td>\n",
       "      <td>H</td>\n",
       "      <td>2</td>\n",
       "      <td>garden cat</td>\n",
       "      <td>5 0</td>\n",
       "    </tr>\n",
       "  </tbody>\n",
       "</table>\n",
       "</div>"
      ],
      "text/plain": [
       "  ID H_V  M           Tags Tags_Int\n",
       "0  0   H  3  cat beach sun    0 1 2\n",
       "1  1   V  2   selfie smile      3 4\n",
       "2  2   V  2  garden selfie      5 3\n",
       "3  3   H  2     garden cat      5 0"
      ]
     },
     "execution_count": 23,
     "metadata": {},
     "output_type": "execute_result"
    }
   ],
   "source": [
    "# Load\n",
    "data_dct = np.load('./Save/data_dct.npy').item()\n",
    "test_dct = np.load('./Save/test_dct.npy').item()\n",
    "\n",
    "# Display test_dct\n",
    "data_dct[\"a_examplet\"]"
   ]
  },
  {
   "cell_type": "markdown",
   "metadata": {
    "ExecuteTime": {
     "end_time": "2019-02-25T22:00:42.565775Z",
     "start_time": "2019-02-25T22:00:42.560208Z"
    }
   },
   "source": [
    "# 3 - Optimisation"
   ]
  },
  {
   "cell_type": "code",
   "execution_count": null,
   "metadata": {
    "ExecuteTime": {
     "end_time": "2019-02-25T22:02:22.613038Z",
     "start_time": "2019-02-25T22:02:22.605986Z"
    }
   },
   "outputs": [],
   "source": [
    "def prediction(dataset_dct):\n",
    "    \"\"\"Make prediction for the current dataset_dct.\"\"\"\n",
    "    \n",
    "    # Resulting array\n",
    "    results = []\n",
    "    \n",
    "    # Extract N\n",
    "    N = dct[\"N\"]\n",
    "    \n",
    "    # Extract Photos\n",
    "    photos_df = dct[\"Photos\"]\n",
    "    \n",
    "    # Predictions\n",
    "    for i in range(len(photos_df)):\n",
    "        results.append(photos_df.iloc[i,:][\"ID\"])\n",
    "                \n",
    "    return results"
   ]
  },
  {
   "cell_type": "code",
   "execution_count": null,
   "metadata": {
    "ExecuteTime": {
     "end_time": "2019-02-25T22:02:01.985647Z",
     "start_time": "2019-02-25T22:02:01.978683Z"
    }
   },
   "outputs": [],
   "source": [
    "def predictionsDct(data_dct):\n",
    "    \"\"\"Extract the data of each file in dct and compute the predictions.\"\"\"\n",
    "    \n",
    "    # Resulting dct\n",
    "    predictions_dct = {}\n",
    "    \n",
    "    # Loop over the different datasets\n",
    "    for key in data_dct.keys():\n",
    "        \n",
    "        # Compute the predictions for the current datasets\n",
    "        predictions_dct[key] = prediction(data_dct[key])\n",
    "        \n",
    "    # Return the predictions made\n",
    "    return predictions_dct"
   ]
  },
  {
   "cell_type": "code",
   "execution_count": null,
   "metadata": {
    "ExecuteTime": {
     "end_time": "2019-02-25T22:02:31.033610Z",
     "start_time": "2019-02-25T22:02:31.022876Z"
    }
   },
   "outputs": [],
   "source": [
    "# Compute the predictions\n",
    "predictions_dct = predictionsDct(test_dct)"
   ]
  },
  {
   "cell_type": "markdown",
   "metadata": {
    "ExecuteTime": {
     "end_time": "2019-02-25T22:01:04.384166Z",
     "start_time": "2019-02-25T22:01:04.381300Z"
    }
   },
   "source": [
    "# 4 - Save Predictions"
   ]
  },
  {
   "cell_type": "code",
   "execution_count": null,
   "metadata": {
    "ExecuteTime": {
     "end_time": "2019-02-25T22:01:13.333963Z",
     "start_time": "2019-02-25T22:01:13.325946Z"
    }
   },
   "outputs": [],
   "source": [
    "def writePredictions(predictions_dct, folder=\"Results/\"):\n",
    "    \"\"\"Save the predictions.\"\"\"\n",
    "    \n",
    "    # Loop over all the predictions save in array_dct\n",
    "    for key in predictions_dct.keys():\n",
    "        \n",
    "        # Extract predictions for the given files\n",
    "        photos = predictions_dct[key]\n",
    "\n",
    "        # Count the number of photos in the slideshow\n",
    "        nb_photos = len(photo)\n",
    "        \n",
    "        # Writes the result in a txt file\n",
    "        f = open(folder + key + \".txt\", \"w\")\n",
    "        \n",
    "        # Write number of slices\n",
    "        f.write(str(nb_photos) + \"\\n\")\n",
    "        \n",
    "        # Loop over each slices\n",
    "        for ID in photos:\n",
    "            f.write(str(ID) + \"\\n\")\n",
    "            \n",
    "        # Closing the file\n",
    "        f.close()"
   ]
  },
  {
   "cell_type": "code",
   "execution_count": null,
   "metadata": {
    "ExecuteTime": {
     "end_time": "2019-02-25T22:01:18.872605Z",
     "start_time": "2019-02-25T22:01:18.801768Z"
    }
   },
   "outputs": [],
   "source": [
    "writePredictions(predictions_dct)"
   ]
  }
 ],
 "metadata": {
  "kernelspec": {
   "display_name": "Python 3",
   "language": "python",
   "name": "python3"
  },
  "language_info": {
   "codemirror_mode": {
    "name": "ipython",
    "version": 3
   },
   "file_extension": ".py",
   "mimetype": "text/x-python",
   "name": "python",
   "nbconvert_exporter": "python",
   "pygments_lexer": "ipython3",
   "version": "3.6.3"
  },
  "latex_envs": {
   "LaTeX_envs_menu_present": true,
   "autoclose": false,
   "autocomplete": true,
   "bibliofile": "biblio.bib",
   "cite_by": "apalike",
   "current_citInitial": 1,
   "eqLabelWithNumbers": true,
   "eqNumInitial": 1,
   "hotkeys": {
    "equation": "Ctrl-E",
    "itemize": "Ctrl-I"
   },
   "labels_anchors": false,
   "latex_user_defs": false,
   "report_style_numbering": false,
   "user_envs_cfg": false
  },
  "varInspector": {
   "cols": {
    "lenName": 16,
    "lenType": 16,
    "lenVar": 40
   },
   "kernels_config": {
    "python": {
     "delete_cmd_postfix": "",
     "delete_cmd_prefix": "del ",
     "library": "var_list.py",
     "varRefreshCmd": "print(var_dic_list())"
    },
    "r": {
     "delete_cmd_postfix": ") ",
     "delete_cmd_prefix": "rm(",
     "library": "var_list.r",
     "varRefreshCmd": "cat(var_dic_list()) "
    }
   },
   "types_to_exclude": [
    "module",
    "function",
    "builtin_function_or_method",
    "instance",
    "_Feature"
   ],
   "window_display": false
  }
 },
 "nbformat": 4,
 "nbformat_minor": 2
}
